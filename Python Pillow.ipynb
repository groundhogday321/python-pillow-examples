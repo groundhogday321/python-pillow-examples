{
 "cells": [
  {
   "cell_type": "markdown",
   "metadata": {},
   "source": [
    "# Pillow Examples\n",
    "\n",
    "### Where you see a path/image/extension, put in your custom path to the image(s) you want to work with \n",
    "note path differences between Mac vs Windows, etc."
   ]
  },
  {
   "cell_type": "code",
   "execution_count": 1,
   "metadata": {},
   "outputs": [],
   "source": [
    "'''\n",
    "to install pillow, go to python.org python package index, search for pillow or if you have Anaconda it is included\n",
    "''' \n",
    "from PIL import Image, ImageEnhance, ImageOps, ImageDraw, ImageFilter\n",
    "import glob"
   ]
  },
  {
   "cell_type": "code",
   "execution_count": 3,
   "metadata": {},
   "outputs": [
    {
     "name": "stdout",
     "output_type": "stream",
     "text": [
      "format: JPEG\n",
      "size: (1563, 1144)\n",
      "image mode: RGB\n"
     ]
    }
   ],
   "source": [
    "# pull in image and show information\n",
    "# use working directory or fullpath\n",
    "bird = Image.open('/Users/ryannoonan/Desktop/images/bird.jpg')\n",
    "print('format: {}'.format(bird.format))\n",
    "print('size: {}'.format(bird.size))\n",
    "print('image mode: {}'.format(bird.mode))\n",
    "bird.show()\n",
    "\n",
    "# use .convert('RGB') or .convert('RGBA'), etc. to convert an image if needed"
   ]
  },
  {
   "cell_type": "code",
   "execution_count": 6,
   "metadata": {},
   "outputs": [
    {
     "name": "stdout",
     "output_type": "stream",
     "text": [
      "/Users/ryannoonan/Desktop/images/frog.jpeg\n",
      "/Users/ryannoonan/Desktop/images/panda.jpeg\n",
      "/Users/ryannoonan/Desktop/images/owl.jpeg\n"
     ]
    }
   ],
   "source": [
    "# resize multiple images\n",
    "# see previous tutorial\n",
    "for (i,filename) in enumerate(glob.glob('/Users/ryannoonan/Desktop/images/*.jpeg')):\n",
    "    print(filename)\n",
    "    img = Image.open(filename).resize((600,600))\n",
    "    img.save('{}{}{}'.format('/Users/ryannoonan/Desktop/images/resized',i+1,'.jpeg'))"
   ]
  },
  {
   "cell_type": "code",
   "execution_count": 7,
   "metadata": {},
   "outputs": [],
   "source": [
    "# rotate image\n",
    "rotate_bird = bird.rotate(45)\n",
    "rotate_bird.show()"
   ]
  },
  {
   "cell_type": "code",
   "execution_count": 8,
   "metadata": {},
   "outputs": [],
   "source": [
    "# create mirror image\n",
    "mirror_bird = ImageOps.mirror(bird)\n",
    "mirror_bird.show()"
   ]
  },
  {
   "cell_type": "code",
   "execution_count": 9,
   "metadata": {},
   "outputs": [],
   "source": [
    "# flip image\n",
    "flip_bird = ImageOps.flip(bird)\n",
    "flip_bird.show()"
   ]
  },
  {
   "cell_type": "code",
   "execution_count": 10,
   "metadata": {},
   "outputs": [],
   "source": [
    "# overlay shape onto image\n",
    "image_with_shape = bird.copy()\n",
    "# coordinate (upper-left, bottom-right)\n",
    "ImageDraw.Draw(image_with_shape).rectangle([(650,70),(830,210)])\n",
    "image_with_shape.show()"
   ]
  },
  {
   "cell_type": "code",
   "execution_count": 12,
   "metadata": {},
   "outputs": [],
   "source": [
    "# add border to image\n",
    "image_with_border = ImageOps.expand(bird,border=20,fill='black')\n",
    "image_with_border.save('/Users/ryannoonan/Desktop/images/border.jpg')\n",
    "image_with_border.show()\n",
    "bird.show()"
   ]
  },
  {
   "cell_type": "code",
   "execution_count": 13,
   "metadata": {},
   "outputs": [],
   "source": [
    "# crop\n",
    "# use image editor to see x and y coordinates\n",
    "flowers = Image.open('/Users/ryannoonan/Desktop/images/flowers.jpg')\n",
    "flowers.show()\n",
    "# crop rectangle uses (left, upper, right, lower) tuple\n",
    "flowers_cropped = flowers.crop((1210,1560,1775,2090))\n",
    "flowers_cropped.save('/Users/ryannoonan/Desktop/images/flowers_cropped.jpg')\n",
    "flowers_cropped.show()"
   ]
  },
  {
   "cell_type": "code",
   "execution_count": 14,
   "metadata": {},
   "outputs": [],
   "source": [
    "# paste image onto another\n",
    "frog = Image.open('/Users/ryannoonan/Desktop/images/frog.jpeg')\n",
    "flowers_copy = flowers.copy()\n",
    "# 2-tuple uses upper left corner (x,y)\n",
    "flowers_copy.paste(frog, (1130,1130))\n",
    "# save with different extension format\n",
    "flowers_copy.save('/Users/ryannoonan/Desktop/images/pasted_image.png')\n",
    "flowers_copy.show()"
   ]
  },
  {
   "cell_type": "code",
   "execution_count": 15,
   "metadata": {},
   "outputs": [],
   "source": [
    "# adjust brightness\n",
    "sky = Image.open('/Users/ryannoonan/Desktop/images/sky.jpg')\n",
    "bright_sky = ImageEnhance.Brightness(sky).enhance(1.5)\n",
    "bright_sky.save('/Users/ryannoonan/Desktop/images/bright_sky.jpg')\n",
    "bright_sky.show()"
   ]
  },
  {
   "cell_type": "code",
   "execution_count": 28,
   "metadata": {},
   "outputs": [],
   "source": [
    "# filters (image effects)\n",
    "bird_blur = bird.filter(ImageFilter.EMBOSS)\n",
    "bird_blur.show()"
   ]
  },
  {
   "cell_type": "markdown",
   "metadata": {},
   "source": [
    "other filters include:\n",
    "BLUR, CONTOUR, DETAIL, EDGE_ENHANCE, EDGE_ENHANCE_MORE, EMBOSS, FIND_EDGES, SMOOTH, SMOOTH_MORE, and SHARPEN"
   ]
  },
  {
   "cell_type": "code",
   "execution_count": 17,
   "metadata": {},
   "outputs": [],
   "source": [
    "# change colors\n",
    "# convert may not always be necessary\n",
    "flower = Image.open('/Users/ryannoonan/Desktop/images/flower.jpg')\n",
    "# flower.show()\n",
    "r, g, b = flower.split()\n",
    "flower_color = Image.merge('RGB', (r, g, r))\n",
    "flower_color.show()"
   ]
  },
  {
   "cell_type": "code",
   "execution_count": 18,
   "metadata": {},
   "outputs": [],
   "source": [
    "# convert image to black and white\n",
    "flower_black_and_white = flower.convert('L')\n",
    "flower_black_and_white.show()"
   ]
  },
  {
   "cell_type": "code",
   "execution_count": 19,
   "metadata": {},
   "outputs": [
    {
     "data": {
      "text/plain": [
       "'RGBA'"
      ]
     },
     "execution_count": 19,
     "metadata": {},
     "output_type": "execute_result"
    }
   ],
   "source": [
    "# composite\n",
    "# blend, composite images must be same size and mode\n",
    "# ocean and sailboat images from Wikipedia 'Ocean' and 'Sailboat' articles\n",
    "ocean = Image.open('/Users/ryannoonan/Desktop/images/ocean.png').resize((900,600))\n",
    "sailboat = Image.open('/Users/ryannoonan/Desktop/images/sailboat.png').resize((900,600))\n",
    "r, g, b, alpha = sailboat.split()\n",
    "alpha = alpha.point(lambda i: i>0 and 155)\n",
    "composite_image = Image.composite(ocean, sailboat, alpha)\n",
    "composite_image.save('/Users/ryannoonan/Desktop/images/composite_image.png')\n",
    "composite_image.show()\n",
    "\n",
    "'''\n",
    "The point() method can be used to translate the pixel values of an image \n",
    "(e.g. image contrast manipulation). In most cases, a function object expecting one \n",
    "argument can be passed to this method. Each pixel is processed according to that function.\n",
    "'''\n",
    "\n",
    "# notice ocean png mode is RGBA (red green blue alpha), alpha for transparency\n",
    "ocean.mode"
   ]
  },
  {
   "cell_type": "code",
   "execution_count": 33,
   "metadata": {},
   "outputs": [
    {
     "data": {
      "text/plain": [
       "'RGB'"
      ]
     },
     "execution_count": 33,
     "metadata": {},
     "output_type": "execute_result"
    }
   ],
   "source": [
    "# blend two images together\n",
    "# blend, composite images must be same size and mode\n",
    "# use Image.open(path.ext).convert('RGBA').resize((100,100)) to make images same size and mode\n",
    "# use .convert('RGBA') if needed\n",
    "blend1 = Image.open('/Users/ryannoonan/Desktop/images/sky.jpg').resize((900,600))\n",
    "blend2 = Image.open('/Users/ryannoonan/Desktop/images/bird.jpg').resize((900,600))\n",
    "blended_image = Image.blend(blend1,blend2,0.5)\n",
    "blended_image.show()\n",
    "blended_image.save('/Users/ryannoonan/Desktop/images/blended_image.png')\n",
    "# cannot write mode RGBA as JPEG error, save as png instead\n",
    "\n",
    "# notice bird jpg mode is RGB\n",
    "bird.mode"
   ]
  },
  {
   "cell_type": "markdown",
   "metadata": {},
   "source": [
    "# added after tutorial"
   ]
  },
  {
   "cell_type": "code",
   "execution_count": 31,
   "metadata": {},
   "outputs": [],
   "source": [
    "# open from current working directory (not using full path)\n",
    "# turtle = Image.open('Turtle.png')\n",
    "# turtle.show()"
   ]
  },
  {
   "cell_type": "code",
   "execution_count": null,
   "metadata": {},
   "outputs": [],
   "source": [
    "# check modes\n",
    "# rgb, rgba modes\n",
    "print('png',Image.open('/Users/ryannoonan/Desktop/images/ocean.png').mode)\n",
    "print('jpg',Image.open('/Users/ryannoonan/Desktop/images/bird.jpg').mode)\n",
    "\n",
    "'''\n",
    "png RGBA\n",
    "jpg RGB\n",
    "'''"
   ]
  },
  {
   "cell_type": "code",
   "execution_count": 24,
   "metadata": {},
   "outputs": [],
   "source": [
    "# add text to image\n",
    "\n",
    "from PIL import Image, ImageDraw, ImageFont\n",
    "\n",
    "# open image\n",
    "img = Image.open('/Users/ryannoonan/Desktop/images/bird.jpg')\n",
    "\n",
    "# the image to draw in\n",
    "draw = ImageDraw.Draw(img)\n",
    "\n",
    "# font type (ttf, ttc, etc.) and size - find os path for fonts (will differ on mac vs windows, etc.)\n",
    "font = ImageFont.truetype('/System/Library/Fonts/Avenir Next.ttc', 170)\n",
    "\n",
    "# text with new lines\n",
    "text = 'HERE\\nIS\\nSOME\\nTEXT'\n",
    "\n",
    "# draw text on image with xy coordinates\n",
    "draw.text((10, 20), text=text, font=font)\n",
    "\n",
    "# save a copy of image\n",
    "img.save('/Users/ryannoonan/Desktop/bird_text.jpg')\n",
    "\n",
    "# show image\n",
    "img.show()\n",
    "\n",
    "# font path on mac\n",
    "# /System/Library/Fonts/Avenir Next.ttc"
   ]
  },
  {
   "cell_type": "code",
   "execution_count": 36,
   "metadata": {},
   "outputs": [],
   "source": [
    "# resize different image types/extensions\n",
    "\n",
    "from PIL import Image\n",
    "import glob\n",
    "import os\n",
    "\n",
    "# may need to alter parts (i.e.-path, etc.) for Windows OS\n",
    "\n",
    "# change path to your path or use current working directory without path\n",
    "path = '/Users/ryannoonan/Desktop/'\n",
    "\n",
    "# create list of paths to different images\n",
    "# list of different image types/extensions (add extensions as needed)\n",
    "img_types = ['*.JPG', '*.png']\n",
    "images = []\n",
    "for i in img_types:\n",
    "    images.extend(glob.glob(f'{path}{i}'))\n",
    "\n",
    "# create new folder\n",
    "new_folder = f'{path}Resized_Images'\n",
    "if not os.path.exists(new_folder):\n",
    "    os.makedirs(new_folder)\n",
    "\n",
    "# resize images and save to new folder\n",
    "for i in images:\n",
    "    img = Image.open(i).resize((100,100))\n",
    "    img.save(f'{new_folder}/{os.path.split(i)[1]}')"
   ]
  }
 ],
 "metadata": {
  "kernelspec": {
   "display_name": "Python 3",
   "language": "python",
   "name": "python3"
  },
  "language_info": {
   "codemirror_mode": {
    "name": "ipython",
    "version": 3
   },
   "file_extension": ".py",
   "mimetype": "text/x-python",
   "name": "python",
   "nbconvert_exporter": "python",
   "pygments_lexer": "ipython3",
   "version": "3.7.6"
  },
  "toc": {
   "base_numbering": 1,
   "nav_menu": {},
   "number_sections": false,
   "sideBar": false,
   "skip_h1_title": false,
   "title_cell": "Table of Contents",
   "title_sidebar": "Contents",
   "toc_cell": false,
   "toc_position": {},
   "toc_section_display": false,
   "toc_window_display": false
  },
  "varInspector": {
   "cols": {
    "lenName": 16,
    "lenType": 16,
    "lenVar": 40
   },
   "kernels_config": {
    "python": {
     "delete_cmd_postfix": "",
     "delete_cmd_prefix": "del ",
     "library": "var_list.py",
     "varRefreshCmd": "print(var_dic_list())"
    },
    "r": {
     "delete_cmd_postfix": ") ",
     "delete_cmd_prefix": "rm(",
     "library": "var_list.r",
     "varRefreshCmd": "cat(var_dic_list()) "
    }
   },
   "types_to_exclude": [
    "module",
    "function",
    "builtin_function_or_method",
    "instance",
    "_Feature"
   ],
   "window_display": false
  }
 },
 "nbformat": 4,
 "nbformat_minor": 2
}
